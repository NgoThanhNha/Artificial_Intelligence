{
  "nbformat": 4,
  "nbformat_minor": 0,
  "metadata": {
    "colab": {
      "provenance": [],
      "authorship_tag": "ABX9TyPfUgg2KklTOQlLk+yagfmR",
      "include_colab_link": true
    },
    "kernelspec": {
      "name": "python3",
      "display_name": "Python 3"
    },
    "language_info": {
      "name": "python"
    }
  },
  "cells": [
    {
      "cell_type": "markdown",
      "metadata": {
        "id": "view-in-github",
        "colab_type": "text"
      },
      "source": [
        "<a href=\"https://colab.research.google.com/github/NgoThanhNha/Artificial_Intelligence/blob/main/Example_W8_Regression_Example_2_BodyFat.ipynb\" target=\"_parent\"><img src=\"https://colab.research.google.com/assets/colab-badge.svg\" alt=\"Open In Colab\"/></a>"
      ]
    },
    {
      "cell_type": "code",
      "execution_count": null,
      "metadata": {
        "colab": {
          "base_uri": "https://localhost:8080/",
          "height": 206
        },
        "id": "G4wTN2RDwKmw",
        "outputId": "69d1dcf2-25e1-4a72-894d-a5e4e6515f87"
      },
      "outputs": [
        {
          "output_type": "execute_result",
          "data": {
            "text/plain": [
              "   Density  BodyFat  Age  Weight  Height  Neck  Chest  Abdomen    Hip  Thigh  \\\n",
              "0   1.0708     12.3   23  154.25   67.75  36.2   93.1     85.2   94.5   59.0   \n",
              "1   1.0853      6.1   22  173.25   72.25  38.5   93.6     83.0   98.7   58.7   \n",
              "2   1.0414     25.3   22  154.00   66.25  34.0   95.8     87.9   99.2   59.6   \n",
              "3   1.0751     10.4   26  184.75   72.25  37.4  101.8     86.4  101.2   60.1   \n",
              "4   1.0340     28.7   24  184.25   71.25  34.4   97.3    100.0  101.9   63.2   \n",
              "\n",
              "   Knee  Ankle  Biceps  Forearm  Wrist  \n",
              "0  37.3   21.9    32.0     27.4   17.1  \n",
              "1  37.3   23.4    30.5     28.9   18.2  \n",
              "2  38.9   24.0    28.8     25.2   16.6  \n",
              "3  37.3   22.8    32.4     29.4   18.2  \n",
              "4  42.2   24.0    32.2     27.7   17.7  "
            ],
            "text/html": [
              "\n",
              "  <div id=\"df-f65c4cea-2f9c-431d-ae6d-536701734055\">\n",
              "    <div class=\"colab-df-container\">\n",
              "      <div>\n",
              "<style scoped>\n",
              "    .dataframe tbody tr th:only-of-type {\n",
              "        vertical-align: middle;\n",
              "    }\n",
              "\n",
              "    .dataframe tbody tr th {\n",
              "        vertical-align: top;\n",
              "    }\n",
              "\n",
              "    .dataframe thead th {\n",
              "        text-align: right;\n",
              "    }\n",
              "</style>\n",
              "<table border=\"1\" class=\"dataframe\">\n",
              "  <thead>\n",
              "    <tr style=\"text-align: right;\">\n",
              "      <th></th>\n",
              "      <th>Density</th>\n",
              "      <th>BodyFat</th>\n",
              "      <th>Age</th>\n",
              "      <th>Weight</th>\n",
              "      <th>Height</th>\n",
              "      <th>Neck</th>\n",
              "      <th>Chest</th>\n",
              "      <th>Abdomen</th>\n",
              "      <th>Hip</th>\n",
              "      <th>Thigh</th>\n",
              "      <th>Knee</th>\n",
              "      <th>Ankle</th>\n",
              "      <th>Biceps</th>\n",
              "      <th>Forearm</th>\n",
              "      <th>Wrist</th>\n",
              "    </tr>\n",
              "  </thead>\n",
              "  <tbody>\n",
              "    <tr>\n",
              "      <th>0</th>\n",
              "      <td>1.0708</td>\n",
              "      <td>12.3</td>\n",
              "      <td>23</td>\n",
              "      <td>154.25</td>\n",
              "      <td>67.75</td>\n",
              "      <td>36.2</td>\n",
              "      <td>93.1</td>\n",
              "      <td>85.2</td>\n",
              "      <td>94.5</td>\n",
              "      <td>59.0</td>\n",
              "      <td>37.3</td>\n",
              "      <td>21.9</td>\n",
              "      <td>32.0</td>\n",
              "      <td>27.4</td>\n",
              "      <td>17.1</td>\n",
              "    </tr>\n",
              "    <tr>\n",
              "      <th>1</th>\n",
              "      <td>1.0853</td>\n",
              "      <td>6.1</td>\n",
              "      <td>22</td>\n",
              "      <td>173.25</td>\n",
              "      <td>72.25</td>\n",
              "      <td>38.5</td>\n",
              "      <td>93.6</td>\n",
              "      <td>83.0</td>\n",
              "      <td>98.7</td>\n",
              "      <td>58.7</td>\n",
              "      <td>37.3</td>\n",
              "      <td>23.4</td>\n",
              "      <td>30.5</td>\n",
              "      <td>28.9</td>\n",
              "      <td>18.2</td>\n",
              "    </tr>\n",
              "    <tr>\n",
              "      <th>2</th>\n",
              "      <td>1.0414</td>\n",
              "      <td>25.3</td>\n",
              "      <td>22</td>\n",
              "      <td>154.00</td>\n",
              "      <td>66.25</td>\n",
              "      <td>34.0</td>\n",
              "      <td>95.8</td>\n",
              "      <td>87.9</td>\n",
              "      <td>99.2</td>\n",
              "      <td>59.6</td>\n",
              "      <td>38.9</td>\n",
              "      <td>24.0</td>\n",
              "      <td>28.8</td>\n",
              "      <td>25.2</td>\n",
              "      <td>16.6</td>\n",
              "    </tr>\n",
              "    <tr>\n",
              "      <th>3</th>\n",
              "      <td>1.0751</td>\n",
              "      <td>10.4</td>\n",
              "      <td>26</td>\n",
              "      <td>184.75</td>\n",
              "      <td>72.25</td>\n",
              "      <td>37.4</td>\n",
              "      <td>101.8</td>\n",
              "      <td>86.4</td>\n",
              "      <td>101.2</td>\n",
              "      <td>60.1</td>\n",
              "      <td>37.3</td>\n",
              "      <td>22.8</td>\n",
              "      <td>32.4</td>\n",
              "      <td>29.4</td>\n",
              "      <td>18.2</td>\n",
              "    </tr>\n",
              "    <tr>\n",
              "      <th>4</th>\n",
              "      <td>1.0340</td>\n",
              "      <td>28.7</td>\n",
              "      <td>24</td>\n",
              "      <td>184.25</td>\n",
              "      <td>71.25</td>\n",
              "      <td>34.4</td>\n",
              "      <td>97.3</td>\n",
              "      <td>100.0</td>\n",
              "      <td>101.9</td>\n",
              "      <td>63.2</td>\n",
              "      <td>42.2</td>\n",
              "      <td>24.0</td>\n",
              "      <td>32.2</td>\n",
              "      <td>27.7</td>\n",
              "      <td>17.7</td>\n",
              "    </tr>\n",
              "  </tbody>\n",
              "</table>\n",
              "</div>\n",
              "      <button class=\"colab-df-convert\" onclick=\"convertToInteractive('df-f65c4cea-2f9c-431d-ae6d-536701734055')\"\n",
              "              title=\"Convert this dataframe to an interactive table.\"\n",
              "              style=\"display:none;\">\n",
              "        \n",
              "  <svg xmlns=\"http://www.w3.org/2000/svg\" height=\"24px\"viewBox=\"0 0 24 24\"\n",
              "       width=\"24px\">\n",
              "    <path d=\"M0 0h24v24H0V0z\" fill=\"none\"/>\n",
              "    <path d=\"M18.56 5.44l.94 2.06.94-2.06 2.06-.94-2.06-.94-.94-2.06-.94 2.06-2.06.94zm-11 1L8.5 8.5l.94-2.06 2.06-.94-2.06-.94L8.5 2.5l-.94 2.06-2.06.94zm10 10l.94 2.06.94-2.06 2.06-.94-2.06-.94-.94-2.06-.94 2.06-2.06.94z\"/><path d=\"M17.41 7.96l-1.37-1.37c-.4-.4-.92-.59-1.43-.59-.52 0-1.04.2-1.43.59L10.3 9.45l-7.72 7.72c-.78.78-.78 2.05 0 2.83L4 21.41c.39.39.9.59 1.41.59.51 0 1.02-.2 1.41-.59l7.78-7.78 2.81-2.81c.8-.78.8-2.07 0-2.86zM5.41 20L4 18.59l7.72-7.72 1.47 1.35L5.41 20z\"/>\n",
              "  </svg>\n",
              "      </button>\n",
              "      \n",
              "  <style>\n",
              "    .colab-df-container {\n",
              "      display:flex;\n",
              "      flex-wrap:wrap;\n",
              "      gap: 12px;\n",
              "    }\n",
              "\n",
              "    .colab-df-convert {\n",
              "      background-color: #E8F0FE;\n",
              "      border: none;\n",
              "      border-radius: 50%;\n",
              "      cursor: pointer;\n",
              "      display: none;\n",
              "      fill: #1967D2;\n",
              "      height: 32px;\n",
              "      padding: 0 0 0 0;\n",
              "      width: 32px;\n",
              "    }\n",
              "\n",
              "    .colab-df-convert:hover {\n",
              "      background-color: #E2EBFA;\n",
              "      box-shadow: 0px 1px 2px rgba(60, 64, 67, 0.3), 0px 1px 3px 1px rgba(60, 64, 67, 0.15);\n",
              "      fill: #174EA6;\n",
              "    }\n",
              "\n",
              "    [theme=dark] .colab-df-convert {\n",
              "      background-color: #3B4455;\n",
              "      fill: #D2E3FC;\n",
              "    }\n",
              "\n",
              "    [theme=dark] .colab-df-convert:hover {\n",
              "      background-color: #434B5C;\n",
              "      box-shadow: 0px 1px 3px 1px rgba(0, 0, 0, 0.15);\n",
              "      filter: drop-shadow(0px 1px 2px rgba(0, 0, 0, 0.3));\n",
              "      fill: #FFFFFF;\n",
              "    }\n",
              "  </style>\n",
              "\n",
              "      <script>\n",
              "        const buttonEl =\n",
              "          document.querySelector('#df-f65c4cea-2f9c-431d-ae6d-536701734055 button.colab-df-convert');\n",
              "        buttonEl.style.display =\n",
              "          google.colab.kernel.accessAllowed ? 'block' : 'none';\n",
              "\n",
              "        async function convertToInteractive(key) {\n",
              "          const element = document.querySelector('#df-f65c4cea-2f9c-431d-ae6d-536701734055');\n",
              "          const dataTable =\n",
              "            await google.colab.kernel.invokeFunction('convertToInteractive',\n",
              "                                                     [key], {});\n",
              "          if (!dataTable) return;\n",
              "\n",
              "          const docLinkHtml = 'Like what you see? Visit the ' +\n",
              "            '<a target=\"_blank\" href=https://colab.research.google.com/notebooks/data_table.ipynb>data table notebook</a>'\n",
              "            + ' to learn more about interactive tables.';\n",
              "          element.innerHTML = '';\n",
              "          dataTable['output_type'] = 'display_data';\n",
              "          await google.colab.output.renderOutput(dataTable, element);\n",
              "          const docLink = document.createElement('div');\n",
              "          docLink.innerHTML = docLinkHtml;\n",
              "          element.appendChild(docLink);\n",
              "        }\n",
              "      </script>\n",
              "    </div>\n",
              "  </div>\n",
              "  "
            ]
          },
          "metadata": {},
          "execution_count": 1
        }
      ],
      "source": [
        "import matplotlib.pyplot as plt\n",
        "import seaborn as sns\n",
        "import pandas as pd\n",
        "import numpy as np\n",
        "from sklearn import linear_model\n",
        "url = \"bodyfat.csv\"\n",
        "data = pd.read_csv(url)\n",
        "data.head()"
      ]
    },
    {
      "cell_type": "code",
      "source": [
        "correlation = data.corr()\n",
        "print(correlation)"
      ],
      "metadata": {
        "colab": {
          "base_uri": "https://localhost:8080/"
        },
        "id": "7mL68HJhwYQj",
        "outputId": "6dae7c68-51da-45e8-deb6-27e2d27cb051"
      },
      "execution_count": null,
      "outputs": [
        {
          "output_type": "stream",
          "name": "stdout",
          "text": [
            "          Density   BodyFat       Age    Weight    Height      Neck     Chest  \\\n",
            "Density  1.000000 -0.987782 -0.277637 -0.594062  0.097881 -0.472966 -0.682599   \n",
            "BodyFat -0.987782  1.000000  0.291458  0.612414 -0.089495  0.490592  0.702620   \n",
            "Age     -0.277637  0.291458  1.000000 -0.012746 -0.171645  0.113505  0.176450   \n",
            "Weight  -0.594062  0.612414 -0.012746  1.000000  0.308279  0.830716  0.894191   \n",
            "Height   0.097881 -0.089495 -0.171645  0.308279  1.000000  0.253710  0.134892   \n",
            "Neck    -0.472966  0.490592  0.113505  0.830716  0.253710  1.000000  0.784835   \n",
            "Chest   -0.682599  0.702620  0.176450  0.894191  0.134892  0.784835  1.000000   \n",
            "Abdomen -0.798955  0.813432  0.230409  0.887995  0.087813  0.754077  0.915828   \n",
            "Hip     -0.609331  0.625201 -0.050332  0.940884  0.170394  0.734958  0.829420   \n",
            "Thigh   -0.553091  0.559608 -0.200096  0.868694  0.148436  0.695697  0.729859   \n",
            "Knee    -0.495040  0.508665  0.017516  0.853167  0.286053  0.672405  0.719496   \n",
            "Ankle   -0.264890  0.265970 -0.105058  0.613685  0.264744  0.477892  0.482988   \n",
            "Biceps  -0.487109  0.493271 -0.041162  0.800416  0.207816  0.731146  0.727907   \n",
            "Forearm -0.351648  0.361387 -0.085056  0.630301  0.228649  0.623660  0.580173   \n",
            "Wrist   -0.325716  0.346575  0.213531  0.729775  0.322065  0.744826  0.660162   \n",
            "\n",
            "          Abdomen       Hip     Thigh      Knee     Ankle    Biceps   Forearm  \\\n",
            "Density -0.798955 -0.609331 -0.553091 -0.495040 -0.264890 -0.487109 -0.351648   \n",
            "BodyFat  0.813432  0.625201  0.559608  0.508665  0.265970  0.493271  0.361387   \n",
            "Age      0.230409 -0.050332 -0.200096  0.017516 -0.105058 -0.041162 -0.085056   \n",
            "Weight   0.887995  0.940884  0.868694  0.853167  0.613685  0.800416  0.630301   \n",
            "Height   0.087813  0.170394  0.148436  0.286053  0.264744  0.207816  0.228649   \n",
            "Neck     0.754077  0.734958  0.695697  0.672405  0.477892  0.731146  0.623660   \n",
            "Chest    0.915828  0.829420  0.729859  0.719496  0.482988  0.727907  0.580173   \n",
            "Abdomen  1.000000  0.874066  0.766624  0.737179  0.453223  0.684983  0.503316   \n",
            "Hip      0.874066  1.000000  0.896410  0.823473  0.558387  0.739273  0.545014   \n",
            "Thigh    0.766624  0.896410  1.000000  0.799170  0.539797  0.761477  0.566842   \n",
            "Knee     0.737179  0.823473  0.799170  1.000000  0.611608  0.678709  0.555898   \n",
            "Ankle    0.453223  0.558387  0.539797  0.611608  1.000000  0.484855  0.419050   \n",
            "Biceps   0.684983  0.739273  0.761477  0.678709  0.484855  1.000000  0.678255   \n",
            "Forearm  0.503316  0.545014  0.566842  0.555898  0.419050  0.678255  1.000000   \n",
            "Wrist    0.619832  0.630090  0.558685  0.664507  0.566195  0.632126  0.585588   \n",
            "\n",
            "            Wrist  \n",
            "Density -0.325716  \n",
            "BodyFat  0.346575  \n",
            "Age      0.213531  \n",
            "Weight   0.729775  \n",
            "Height   0.322065  \n",
            "Neck     0.744826  \n",
            "Chest    0.660162  \n",
            "Abdomen  0.619832  \n",
            "Hip      0.630090  \n",
            "Thigh    0.558685  \n",
            "Knee     0.664507  \n",
            "Ankle    0.566195  \n",
            "Biceps   0.632126  \n",
            "Forearm  0.585588  \n",
            "Wrist    1.000000  \n"
          ]
        }
      ]
    },
    {
      "cell_type": "code",
      "source": [
        "data.plot(kind='scatter',x='Abdomen',y='BodyFat',figsize=(9,9),color='red')"
      ],
      "metadata": {
        "colab": {
          "base_uri": "https://localhost:8080/",
          "height": 623
        },
        "id": "qxGBJ2vsxVUE",
        "outputId": "6f6ee7f4-a801-4544-b4f8-53c4f318cb41"
      },
      "execution_count": null,
      "outputs": [
        {
          "output_type": "stream",
          "name": "stderr",
          "text": [
            "/usr/local/lib/python3.9/dist-packages/pandas/plotting/_matplotlib/core.py:1114: UserWarning: No data for colormapping provided via 'c'. Parameters 'cmap' will be ignored\n",
            "  scatter = ax.scatter(\n"
          ]
        },
        {
          "output_type": "execute_result",
          "data": {
            "text/plain": [
              "<Axes: xlabel='Abdomen', ylabel='BodyFat'>"
            ]
          },
          "metadata": {},
          "execution_count": 5
        },
        {
          "output_type": "display_data",
          "data": {
            "text/plain": [
              "<Figure size 648x648 with 1 Axes>"
            ],
            "image/png": "[encoded data removed]"
          },
          "metadata": {
            "needs_background": "light"
          }
        }
      ]
    },
    {
      "cell_type": "code",
      "source": [
        "#------------------------Using LinearRegression----------------------\n",
        "from sklearn import linear_model\n",
        "model = linear_model.LinearRegression()\n",
        "model.fit(X=pd.DataFrame(data['Abdomen']), y=data['BodyFat']) \n",
        "\n",
        "print('Giá trị intercept:', model.intercept_)\n",
        "print('Giá trị coeffient:', model.coef_)\n",
        "print('Độ chính xác:', model.score(pd.DataFrame(data['Abdomen']),y=data['BodyFat']))\n",
        "\n",
        "data.plot(kind = 'scatter',x='Abdomen',y='BodyFat',figsize=(9,9),color = 'black',xlim = (0,180))\n",
        "y_pred = model.predict(X=pd.DataFrame(data['Abdomen']))\n",
        "plt.plot(data['Abdomen'],y_pred,color = 'orange')\n"
      ],
      "metadata": {
        "colab": {
          "base_uri": "https://localhost:8080/",
          "height": 675
        },
        "id": "uIYMGl-5xYt7",
        "outputId": "6f35347f-8382-484a-e8b6-af867e9845bc"
      },
      "execution_count": null,
      "outputs": [
        {
          "output_type": "stream",
          "name": "stdout",
          "text": [
            "Giá trị intercept: -39.280184656802305\n",
            "Giá trị coeffient: [0.63130438]\n",
            "Độ chính xác: 0.6616720819241175\n"
          ]
        },
        {
          "output_type": "stream",
          "name": "stderr",
          "text": [
            "/usr/local/lib/python3.9/dist-packages/pandas/plotting/_matplotlib/core.py:1114: UserWarning: No data for colormapping provided via 'c'. Parameters 'cmap' will be ignored\n",
            "  scatter = ax.scatter(\n"
          ]
        },
        {
          "output_type": "execute_result",
          "data": {
            "text/plain": [
              "[<matplotlib.lines.Line2D at 0x7f4378d32610>]"
            ]
          },
          "metadata": {},
          "execution_count": 9
        },
        {
          "output_type": "display_data",
          "data": {
            "text/plain": [
              "<Figure size 648x648 with 1 Axes>"
            ],
            "image/png": "[encoded data removed]"
          },
          "metadata": {
            "needs_background": "light"
          }
        }
      ]
    },
    {
      "cell_type": "code",
      "source": [
        "#------------------------------Bac_2--------------------------------\n",
        "\n",
        "model = linear_model.LinearRegression()\n",
        "X = pd.DataFrame({'Abdomen': data['Abdomen'], 'Abdomen_sq': data['Abdomen']**2})\n",
        "model.fit(X,y=data['BodyFat'])\n",
        "print('Giá trị intercept:', model.intercept_)\n",
        "print('Giá trị coeffient:', model.coef_)\n",
        "print('Độ chính xác:', model.score(X,y=data['BodyFat']))"
      ],
      "metadata": {
        "colab": {
          "base_uri": "https://localhost:8080/"
        },
        "id": "EAk9DsMyzHTc",
        "outputId": "ca665f7f-011c-4bda-a5f7-4bd722dab6bc"
      },
      "execution_count": null,
      "outputs": [
        {
          "output_type": "stream",
          "name": "stdout",
          "text": [
            "Giá trị intercept: -89.31988391249925\n",
            "Giá trị coeffient: [ 1.67772498 -0.00539167]\n",
            "Độ chính xác: 0.6811578151506954\n"
          ]
        }
      ]
    },
    {
      "cell_type": "code",
      "source": [
        "range = np.arange(1,180,1)\n",
        "X_range = pd.DataFrame([range,range**2]).T\n",
        "y_pred = model.predict(X=X_range)\n",
        "data.plot(kind = 'scatter',x='Abdomen',y='BodyFat',figsize=(9,9),color = 'black',xlim = (0,180))\n",
        "plt.plot(range,y_pred,color = 'blue')"
      ],
      "metadata": {
        "colab": {
          "base_uri": "https://localhost:8080/",
          "height": 658
        },
        "id": "0X9dTZqs0aUD",
        "outputId": "c968689b-daa7-415e-e0d4-4e498ccfc2dd"
      },
      "execution_count": null,
      "outputs": [
        {
          "output_type": "stream",
          "name": "stderr",
          "text": [
            "/usr/local/lib/python3.9/dist-packages/sklearn/base.py:439: UserWarning: X does not have valid feature names, but LinearRegression was fitted with feature names\n",
            "  warnings.warn(\n",
            "/usr/local/lib/python3.9/dist-packages/pandas/plotting/_matplotlib/core.py:1114: UserWarning: No data for colormapping provided via 'c'. Parameters 'cmap' will be ignored\n",
            "  scatter = ax.scatter(\n"
          ]
        },
        {
          "output_type": "execute_result",
          "data": {
            "text/plain": [
              "[<matplotlib.lines.Line2D at 0x7f4373e81160>]"
            ]
          },
          "metadata": {},
          "execution_count": 13
        },
        {
          "output_type": "display_data",
          "data": {
            "text/plain": [
              "<Figure size 648x648 with 1 Axes>"
            ],
            "image/png": "[encoded data removed]"
          },
          "metadata": {
            "needs_background": "light"
          }
        }
      ]
    },
    {
      "cell_type": "code",
      "source": [],
      "metadata": {
        "id": "VAodqLaZ0jwy"
      },
      "execution_count": null,
      "outputs": []
    }
  ]
}