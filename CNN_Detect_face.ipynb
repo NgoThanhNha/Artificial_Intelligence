{
  "nbformat": 4,
  "nbformat_minor": 0,
  "metadata": {
    "colab": {
      "provenance": [],
      "mount_file_id": "1VS4v3BEXrSUC0qmfZ9NImbmgjf65LsEr",
      "authorship_tag": "ABX9TyOmBnOQ/drwhpHZ6arQf8E5",
      "include_colab_link": true
    },
    "kernelspec": {
      "name": "python3",
      "display_name": "Python 3"
    },
    "language_info": {
      "name": "python"
    },
    "accelerator": "GPU",
    "gpuClass": "standard"
  },
  "cells": [
    {
      "cell_type": "markdown",
      "metadata": {
        "id": "view-in-github",
        "colab_type": "text"
      },
      "source": [
        "<a href=\"https://colab.research.google.com/github/NgoThanhNha/Artificial_Intelligence/blob/main/CNN_Detect_face.ipynb\" target=\"_parent\"><img src=\"https://colab.research.google.com/assets/colab-badge.svg\" alt=\"Open In Colab\"/></a>"
      ]
    },
    {
      "cell_type": "code",
      "execution_count": 1,
      "metadata": {
        "id": "0DrFMKMuKflW"
      },
      "outputs": [],
      "source": [
        "# Import library\n",
        "import pandas as pd\n",
        "import numpy as np\n",
        "from os import listdir\n",
        "from numpy import asanyarray, save\n",
        "from keras.utils import load_img, img_to_array\n",
        "from numpy.core.multiarray import asarray\n",
        "from google.colab import drive\n",
        "from keras.utils import to_categorical\n",
        "from PIL import Image\n",
        "import matplotlib.pyplot as plt"
      ]
    },
    {
      "cell_type": "code",
      "source": [
        "folder = '/content/drive/MyDrive/Homework_CNN_Picture/Face_Picture/'\n",
        "photos, labels = list(), list()"
      ],
      "metadata": {
        "id": "CURBlaaJM_fP"
      },
      "execution_count": 2,
      "outputs": []
    },
    {
      "cell_type": "code",
      "source": [
        "for file in listdir(folder):\n",
        "  output = 0.0\n",
        "  if file.startswith('Nha'):\n",
        "    output = 1.0\n",
        "  if file.startswith('Cuong'):\n",
        "    output = 2.0\n",
        "  if file.startswith('Phuc'):\n",
        "    output = 3.0\n",
        "  if file.startswith('Tan'):\n",
        "    output = 4.0\n",
        "  photo = load_img(folder+file, target_size = (30,40))\n",
        "  photo = img_to_array(photo)\n",
        "  photos.append(photo)\n",
        "  labels.append(output)"
      ],
      "metadata": {
        "id": "QIw1SvaENjv2"
      },
      "execution_count": 3,
      "outputs": []
    },
    {
      "cell_type": "code",
      "source": [
        "# Convert list photos, labels to Numpy\n",
        "photos = asarray(photos)\n",
        "labels = asarray(labels)\n",
        "print(photos.shape, labels.shape)"
      ],
      "metadata": {
        "colab": {
          "base_uri": "https://localhost:8080/"
        },
        "id": "1NJUHH0aN2J7",
        "outputId": "cfd40ee6-99e3-4685-a04b-1cde5399f7c7"
      },
      "execution_count": 4,
      "outputs": [
        {
          "output_type": "stream",
          "name": "stdout",
          "text": [
            "(233, 30, 40, 3) (233,)\n"
          ]
        }
      ]
    },
    {
      "cell_type": "code",
      "source": [
        "# Save data after preprocessing data\n",
        "save('/content/drive/MyDrive/Picture_Preprocessing/Face_Preprocessing/Face_photos.npy', photos)\n",
        "save('/content/drive/MyDrive/Picture_Preprocessing/Face_Preprocessing/Face_labels.npy', labels)"
      ],
      "metadata": {
        "id": "0yujk3l8OAmO"
      },
      "execution_count": 5,
      "outputs": []
    },
    {
      "cell_type": "code",
      "source": [
        "# Read data\n",
        "photos = np.load('/content/drive/MyDrive/Picture_Preprocessing/Face_Preprocessing/Face_photos.npy')\n",
        "labels = np.load('/content/drive/MyDrive/Picture_Preprocessing/Face_Preprocessing/Face_labels.npy')"
      ],
      "metadata": {
        "id": "7LMdTtjpOTg7"
      },
      "execution_count": 6,
      "outputs": []
    },
    {
      "cell_type": "code",
      "source": [
        "# Chuẩn hóa dữ liệu\n",
        "x_train = photos.astype('float32')/255\n",
        "y_train = labels\n",
        "y_train = to_categorical(y_train, num_classes=5)\n",
        "print(x_train.shape, y_train.shape)"
      ],
      "metadata": {
        "colab": {
          "base_uri": "https://localhost:8080/"
        },
        "id": "REZ6_zVzOmS-",
        "outputId": "3d4b3c7e-8a2f-4630-aaf8-9c732d3d9da5"
      },
      "execution_count": 16,
      "outputs": [
        {
          "output_type": "stream",
          "name": "stdout",
          "text": [
            "(233, 30, 40, 3) (233, 5)\n"
          ]
        }
      ]
    },
    {
      "cell_type": "code",
      "source": [
        "# Import library training model\n",
        "from keras.models import Sequential, Model\n",
        "from keras.layers import Dense, Dropout, Flatten, Conv2D, MaxPooling2D, Normalization, LeakyReLU\n",
        "from keras.optimizers import Adam\n",
        "from keras.layers.serialization import activation\n",
        "from keras.losses import categorical_crossentropy"
      ],
      "metadata": {
        "id": "3MgBUav2Op84"
      },
      "execution_count": 17,
      "outputs": []
    },
    {
      "cell_type": "code",
      "source": [
        "# Config model\n",
        "model = Sequential()\n",
        "model.add(Conv2D(32, kernel_size=(3, 3), activation='linear', input_shape=(30, 40, 3), padding='same'))\n",
        "model.add(LeakyReLU(alpha=0.1))\n",
        "model.add(MaxPooling2D((2, 2), padding='same'))\n",
        "\n",
        "model.add(Conv2D(64, (3, 3), activation='linear', padding='same'))\n",
        "model.add(LeakyReLU(alpha=0.1))\n",
        "model.add(MaxPooling2D((2, 2), padding='same'))\n",
        "\n",
        "model.add(Conv2D(128, (3, 3), activation='linear', padding='same'))\n",
        "model.add(LeakyReLU(alpha=0.1))\n",
        "model.add(MaxPooling2D((2, 2), padding='same'))\n",
        "\n",
        "model.add(Flatten())\n",
        "model.add(Dense(128, activation='linear'))\n",
        "model.add(LeakyReLU(alpha=0.1))\n",
        "model.add(Dense(5, activation='softmax'))"
      ],
      "metadata": {
        "id": "CI5_LTQxOsKL"
      },
      "execution_count": 18,
      "outputs": []
    },
    {
      "cell_type": "code",
      "source": [
        "# Compile and Train model\n",
        "model.compile(loss = categorical_crossentropy,\n",
        "              optimizer = Adam(),\n",
        "              metrics = ['accuracy'])\n",
        "train = model.fit(x_train, y_train, batch_size = 50, epochs = 2, verbose = 1)"
      ],
      "metadata": {
        "colab": {
          "base_uri": "https://localhost:8080/"
        },
        "id": "RphVo6rYOx1G",
        "outputId": "71dd99a9-13e7-4ae7-b99a-357f5c0d2377"
      },
      "execution_count": 37,
      "outputs": [
        {
          "output_type": "stream",
          "name": "stdout",
          "text": [
            "Epoch 1/2\n",
            "5/5 [==============================] - 2s 155ms/step - loss: 0.3270 - accuracy: 0.9142\n",
            "Epoch 2/2\n",
            "5/5 [==============================] - 1s 132ms/step - loss: 0.1270 - accuracy: 0.9657\n"
          ]
        }
      ]
    },
    {
      "cell_type": "code",
      "source": [
        "# Mở ảnh\n",
        "img = Image.open('Cuong56.jpg')\n",
        "\n",
        "# Resize ảnh về kích thước mong muốn\n",
        "IMG = img\n",
        "img = img.resize((30, 40))\n",
        "\n",
        "# Chuyển đổi ảnh sang numpy array và chuẩn hóa\n",
        "img = np.asarray(img)\n",
        "img = img.reshape(1,30,40,3)\n",
        "img = img.astype('float32') / 255.0\n",
        "\n",
        "plt.imshow(IMG)\n",
        "plt.show()\n",
        "\n",
        "matrix = np.argmax(model.predict(img), axis=-1)\n",
        "class_names = [\"Không biết\",\"Nhã\",\"Cường\",\"Phúc\",\"Tấn\"]\n",
        "\n",
        "temp1 = matrix[0]\n",
        "print(\"Bạn: \", class_names[temp1])"
      ],
      "metadata": {
        "colab": {
          "base_uri": "https://localhost:8080/",
          "height": 466
        },
        "id": "-PGJoKcNO3iY",
        "outputId": "ce6af91d-7940-4f09-e74f-5cfe18a3cdce"
      },
      "execution_count": 44,
      "outputs": [
        {
          "output_type": "display_data",
          "data": {
            "text/plain": [
              "<Figure size 640x480 with 1 Axes>"
            ],
            "image/png": "[encoded data removed]"
          },
          "metadata": {}
        },
        {
          "output_type": "stream",
          "name": "stdout",
          "text": [
            "1/1 [==============================] - 0s 25ms/step\n",
            "Bạn:  Cường\n"
          ]
        }
      ]
    },
    {
      "cell_type": "code",
      "source": [],
      "metadata": {
        "id": "Z_d5rgdDP4Xq"
      },
      "execution_count": null,
      "outputs": []
    }
  ]
}