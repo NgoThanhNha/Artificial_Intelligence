import matplotlib.pyplot as plt
import seaborn as sns
import pandas as pd
import numpy as np
from sklearn import linear_model
url = "abalone.csv"
data = pd.read_csv(url)
data.head()

correlation = data.corr()
print(correlation)
sns.heatmap(correlation, annot = True)
data.plot(kind='scatter',x='Viscera weight',y='Whole weight',figsize=(9,9),color='black')

#------------------------Using LinearRegression----------------------
from sklearn import linear_model
model = linear_model.LinearRegression()
model.fit(X=pd.DataFrame(data['Viscera weight']), y=data['Whole weight']) 
print('Giá trị intercept:', model.intercept_)
print('Giá trị coeffient:', model.coef_)
print('Độ chính xác:', model.score(pd.DataFrame(data['Viscera weight']),y=data['Whole weight']))

data.plot(kind ='scatter',x='Viscera weight',y='Whole weight',figsize=(9,9),color = 'black',xlim = (0,2))
y_pred = model.predict(X=pd.DataFrame(data['Viscera weight']))
plt.plot(data['Viscera weight'],y_pred,color ='red')
