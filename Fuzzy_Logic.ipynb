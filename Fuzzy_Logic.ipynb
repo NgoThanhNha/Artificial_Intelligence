import numpy as np
import skfuzzy as fuzz
import matplotlib.pyplot as plt

x = np.arange(30,81,1)

#Config
slow = fuzz.trimf(x,[30,40,50])
medium = fuzz.trimf(x,[40,50,60])
medium_fast = fuzz.trimf(x,[50,60,70])
full_speed = fuzz.trimf(x,[60,70,80])

#Draw_Trimf
plt.figure()
plt.plot(x,slow,'r',linewidth=1.5,label = 'Slow')
plt.plot(x,medium,'g',linewidth=1.5,label = 'Medium')
plt.plot(x,medium_fast,'y',linewidth=1.5,label = 'Medium_fast')
plt.plot(x,full_speed,'b',linewidth=1.5,label = 'Full_speed')

#----------------------------------------------------------------------
#Config
slow = fuzz.trapmf(x,[30,40,40,50])
medium = fuzz.trapmf(x,[40,50,50,60])
medium_fast = fuzz.trapmf(x,[50,60,60,70])
full_speed = fuzz.trapmf(x,[60,70,70,80])

#Draw_Trimf
plt.figure()
plt.plot(x,slow,'r',linewidth=1.5,label = 'Slow')
plt.plot(x,medium,'g',linewidth=1.5,label = 'Medium')
plt.plot(x,medium_fast,'y',linewidth=1.5,label = 'Medium_fast')
plt.plot(x,full_speed,'b',linewidth=1.5,label = 'Full_speed')

#------------------------------Draw_Gauss-------------------------------------------------
#Config_Gauss
gauss_1 = fuzz.gaussmf(x,10,5)
gauss_2 = fuzz.gaussmf(x,15,5)
gauss_3 = fuzz.gaussmf(x,20,5)
gauss_4 = fuzz.gaussmf(x,25,5)
gauss_5 = fuzz.gaussmf(x,35,5)
gauss_6 = fuzz.gaussmf(x,40,5)
gauss_7 = fuzz.gaussmf(x,50,5)
gauss_8 = fuzz.gaussmf(x,60,5)
gauss_9 = fuzz.gaussmf(x,70,5)
gauss_10 = fuzz.gaussmf(x,80,5)


plt.plot(x,gauss_1,'r',linewidth=1.5,label = 'Gauss_10')
plt.plot(x,gauss_2,'b',linewidth=1.5,label = 'Gauss_10')
plt.plot(x,gauss_3,'y',linewidth=1.5,label = 'Gauss_10')
plt.plot(x,gauss_4,'b',linewidth=1.5,label = 'Gauss_10')
plt.plot(x,gauss_5,'g',linewidth=1.5,label = 'Gauss_10')
plt.plot(x,gauss_6,'y',linewidth=1.5,label = 'Gauss_10')
plt.plot(x,gauss_7,'r',linewidth=1.5,label = 'Gauss_10')
plt.plot(x,gauss_8,'m',linewidth=1.5,label = 'Gauss_10')
plt.plot(x,gauss_9,'c',linewidth=1.5,label = 'Gauss_10')
plt.plot(x,gauss_10,'b',linewidth=1.5,label = 'Gauss_10')

#-----------------------------Calculate_Tip_with_Fuzzy_Logic
import numpy as np
import skfuzzy as fuzz
from skfuzzy import control as ctrl

food = ctrl.Antecedent(np.arange(0,11,1),'Food')
service = ctrl.Antecedent(np.arange(0,11,1),'Service')
tip = ctrl.Consequent(np.arange(10,31,1),'Tip')

#---------------------Config-----------------------------------------------
food['poor'] = fuzz.trimf(food.universe,[0,0,5])
food['average'] = fuzz.trimf(food.universe,[0,5,10])
food['good'] = fuzz.trimf(food.universe,[5,10,10])

service['poor'] = fuzz.trimf(service.universe,[0,0,5])
service['average'] = fuzz.trimf(service.universe,[0,5,10])
service['good'] = fuzz.trimf(service.universe,[5,10,10])

tip['less'] = fuzz.trimf(tip.universe,[10,10,25])
tip['normal'] = fuzz.trimf(tip.universe,[10,25,30])
tip['much'] = fuzz.trimf(tip.universe,[25,30,30])


#----------------------------------------------------------------------------

rule1 = ctrl.Rule(food['poor']&service['poor'],tip['less'])
rule2 = ctrl.Rule(food['poor']&service['average'],tip['less'])
rule3 = ctrl.Rule(food['poor']&service['good'],tip['less'])

rule4 = ctrl.Rule(food['average']&service['poor'],tip['less'])
rule5 = ctrl.Rule(food['average']&service['average'],tip['normal'])
rule6 = ctrl.Rule(food['average']&service['good'],tip['normal'])

rule7 = ctrl.Rule(food['good']&service['poor'],tip['less'])
rule8 = ctrl.Rule(food['good']&service['average'],tip['much'])
rule9 = ctrl.Rule(food['good']&service['good'],tip['much'])

tipping_ctrl = ctrl.ControlSystem([rule1,rule2,rule3,rule4,rule5,rule6,rule7,rule8,rule9])
tipping = ctrl.ControlSystemSimulation(tipping_ctrl)
tipping.input['Food'] = 10
tipping.input['Service'] = 10
tipping.compute()
print(tipping.output['Tip'])
tip.view(sim=tipping)

#------------------------------------------Calculate_Power_with_Fuzzy_Logic
import numpy as np
import skfuzzy as fuzz
from skfuzzy import control as ctrl

Time = ctrl.Antecedent(np.arange(10,181,1),'Time')
Rice = ctrl.Antecedent(np.arange(100,1001,1),'Rice')
Power = ctrl.Consequent(np.arange(200,2001,1),'Power')

Time['Very_fast'] = fuzz.trimf(Time.universe,[10,15,20])
Time['Fast'] = fuzz.trimf(Time.universe,[20,25,30])
Time['Average'] = fuzz.trimf(Time.universe,[30,45,60])
Time['Slow'] = fuzz.trimf(Time.universe,[60,90,120])
Time['Very_slow'] = fuzz.trimf(Time.universe,[120,150,180])

Rice['Rat_it']= fuzz.trimf(Rice.universe,[100,150,200])
Rice['It']= fuzz.trimf(Rice.universe,[200,300,400])
Rice['Trung_binh']= fuzz.trimf(Rice.universe,[400,500,600])
Rice['Nhieu']= fuzz.trimf(Rice.universe,[600,700,800])
Rice['Rat_nhieu']= fuzz.trimf(Rice.universe,[800,900,1000])

Power['Very_low']= fuzz.trimf(Power.universe,[200,300,400])
Power['Low']= fuzz.trimf(Power.universe,[400,550,800])
Power['Average']= fuzz.trimf(Power.universe,[800,900,1000])
Power['High']= fuzz.trimf(Power.universe,[1000,1300,1500])
Power['Very_high']= fuzz.trimf(Power.universe,[1500,1800,2000])

#-----------------------------------------------------------------------
rule1 = ctrl.Rule(Time['Very_fast']&Rice['Rat_it'],Power['Very_high'])
rule2 = ctrl.Rule(Time['Very_fast']&Rice['It'],Power['Very_high'])
