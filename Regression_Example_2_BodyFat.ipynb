import matplotlib.pyplot as plt
import seaborn as sns
import pandas as pd
import numpy as np
from sklearn import linear_model
url = "bodyfat.csv"
data = pd.read_csv(url)
data.head()

correlation = data.corr()
print(correlation)
data.plot(kind='scatter',x='Abdomen',y='BodyFat',figsize=(9,9),color='red')

#------------------------Using LinearRegression----------------------
from sklearn import linear_model
model = linear_model.LinearRegression()
model.fit(X=pd.DataFrame(data['Abdomen']), y=data['BodyFat']) 

print('Giá trị intercept:', model.intercept_)
print('Giá trị coeffient:', model.coef_)
print('Độ chính xác:', model.score(pd.DataFrame(data['Abdomen']),y=data['BodyFat']))

data.plot(kind = 'scatter',x='Abdomen',y='BodyFat',figsize=(9,9),color = 'black',xlim = (0,180))
y_pred = model.predict(X=pd.DataFrame(data['Abdomen']))
plt.plot(data['Abdomen'],y_pred,color = 'orange')
#-------------------------------------------------------------------------

#------------------------------Bac_2--------------------------------

model = linear_model.LinearRegression()
X = pd.DataFrame({'Abdomen': data['Abdomen'], 'Abdomen_sq': data['Abdomen']**2})
model.fit(X,y=data['BodyFat'])
print('Giá trị intercept:', model.intercept_)
print('Giá trị coeffient:', model.coef_)
print('Độ chính xác:', model.score(X,y=data['BodyFat']))
range = np.arange(1,180,1)
X_range = pd.DataFrame([range,range**2]).T
y_pred = model.predict(X=X_range)
data.plot(kind = 'scatter',x='Abdomen',y='BodyFat',figsize=(9,9),color = 'black',xlim = (0,180))
plt.plot(range,y_pred,color = 'blue')
#-----------------------------------------------------------------------------------
