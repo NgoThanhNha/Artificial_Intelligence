{
  "nbformat": 4,
  "nbformat_minor": 0,
  "metadata": {
    "colab": {
      "provenance": [],
      "mount_file_id": "1pjgZYguATxlSQcBItoMhGsFMv0ONtKTm",
      "authorship_tag": "ABX9TyNZTFGU3v9xuhaiObkyeikK",
      "include_colab_link": true
    },
    "kernelspec": {
      "name": "python3",
      "display_name": "Python 3"
    },
    "language_info": {
      "name": "python"
    },
    "accelerator": "GPU",
    "gpuClass": "standard"
  },
  "cells": [
    {
      "cell_type": "markdown",
      "metadata": {
        "id": "view-in-github",
        "colab_type": "text"
      },
      "source": [
        "<a href=\"https://colab.research.google.com/github/NgoThanhNha/Artificial_Intelligence/blob/main/CNN_Fingerprint.ipynb\" target=\"_parent\"><img src=\"https://colab.research.google.com/assets/colab-badge.svg\" alt=\"Open In Colab\"/></a>"
      ]
    },
    {
      "cell_type": "code",
      "execution_count": null,
      "metadata": {
        "id": "TlB8PWLNfxTL"
      },
      "outputs": [],
      "source": [
        "# Import library\n",
        "import pandas as pd\n",
        "import numpy as np\n",
        "from os import listdir\n",
        "from numpy import asanyarray, save\n",
        "from keras.utils import load_img, img_to_array\n",
        "from numpy.core.multiarray import asarray\n",
        "from google.colab import drive\n",
        "from keras.utils import to_categorical\n",
        "from PIL import Image\n",
        "import matplotlib.pyplot as plt"
      ]
    },
    {
      "cell_type": "code",
      "source": [
        "folder = '/content/drive/MyDrive/Homework_CNN_Picture/Finger_12Cung/'\n",
        "photos, labels = list(), list()"
      ],
      "metadata": {
        "id": "gzEKNdqlg_Ww"
      },
      "execution_count": null,
      "outputs": []
    },
    {
      "cell_type": "code",
      "source": [
        "for file in listdir(folder):\n",
        "  output = 0.0\n",
        "  if file.startswith('Fingerprint_Cung1'):\n",
        "    output = 1.0\n",
        "  if file.startswith('Fingerprint_Cung2'):\n",
        "    output = 2.0\n",
        "  if file.startswith('Fingerprint_Cung3'):\n",
        "    output = 3.0\n",
        "  if file.startswith('Fingerprint_Cung4'):\n",
        "    output = 4.0\n",
        "  if file.startswith('Fingerprint_Cung5'):\n",
        "    output = 5.0\n",
        "  if file.startswith('Fingerprint_Cung6'):\n",
        "    output = 6.0\n",
        "  if file.startswith('Fingerprint_Cung7'):\n",
        "    output = 7.0\n",
        "  if file.startswith('Fingerprint_Cung8'):\n",
        "    output = 8.0\n",
        "  if file.startswith('Fingerprint_Cung9'):\n",
        "    output = 9.0\n",
        "  if file.startswith('Fingerprint_Cung10'):\n",
        "    output = 10.0\n",
        "  if file.startswith('Fingerprint_Cung11'):\n",
        "    output = 11.0\n",
        "  if file.startswith('Fingerprint ('):\n",
        "    output = 12.0\n",
        "  photo = load_img(folder+file, target_size = (50,50))\n",
        "  photo = img_to_array(photo)\n",
        "  photos.append(photo)\n",
        "  labels.append(output)"
      ],
      "metadata": {
        "id": "aa7rE0LChHbx"
      },
      "execution_count": null,
      "outputs": []
    },
    {
      "cell_type": "code",
      "source": [
        "# Convert list photos, labels to Numpy\n",
        "photos = asarray(photos)\n",
        "labels = asarray(labels)\n",
        "print(photos.shape, labels.shape)"
      ],
      "metadata": {
        "colab": {
          "base_uri": "https://localhost:8080/"
        },
        "id": "Yg-_K9zkiCry",
        "outputId": "8af29ee1-e8a0-4eda-f7d4-2d0080641fa9"
      },
      "execution_count": null,
      "outputs": [
        {
          "output_type": "stream",
          "name": "stdout",
          "text": [
            "(1037, 50, 50, 3) (1037,)\n"
          ]
        }
      ]
    },
    {
      "cell_type": "code",
      "source": [
        "# Save data after preprocessing data\n",
        "save('/content/drive/MyDrive/Picture_Preprocessing/Fingerprint/Fingerprint_photos.npy', photos)\n",
        "save('/content/drive/MyDrive/Picture_Preprocessing/Fingerprint/Fingerprint_labels.npy', labels)"
      ],
      "metadata": {
        "id": "U7QSQ_V2iL9u"
      },
      "execution_count": null,
      "outputs": []
    },
    {
      "cell_type": "code",
      "source": [
        "# Read data\n",
        "photos = np.load('/content/drive/MyDrive/Picture_Preprocessing/Fingerprint/Fingerprint_photos.npy')\n",
        "labels = np.load('/content/drive/MyDrive/Picture_Preprocessing/Fingerprint/Fingerprint_labels.npy')"
      ],
      "metadata": {
        "id": "ncXTk3vgi2sP"
      },
      "execution_count": null,
      "outputs": []
    },
    {
      "cell_type": "code",
      "source": [
        "# Chuẩn hóa dữ liệu\n",
        "x_train = photos.astype('float32')/255\n",
        "y_train = labels\n",
        "y_train = to_categorical(y_train, num_classes=13)\n",
        "print(x_train.shape, y_train.shape)"
      ],
      "metadata": {
        "colab": {
          "base_uri": "https://localhost:8080/"
        },
        "id": "VBRuGCxXjEli",
        "outputId": "ec1b15f9-dbf6-4fcb-d854-4aede9c28592"
      },
      "execution_count": null,
      "outputs": [
        {
          "output_type": "stream",
          "name": "stdout",
          "text": [
            "(1037, 50, 50, 3) (1037, 13)\n"
          ]
        }
      ]
    },
    {
      "cell_type": "code",
      "source": [
        "# Import library training model\n",
        "from keras.models import Sequential, Model\n",
        "from keras.layers import Dense, Dropout, Flatten, Conv2D, MaxPooling2D, Normalization, LeakyReLU\n",
        "from keras.optimizers import Adam\n",
        "from keras.layers.serialization import activation\n",
        "from keras.losses import categorical_crossentropy"
      ],
      "metadata": {
        "id": "ASZJLa5xjG4R"
      },
      "execution_count": null,
      "outputs": []
    },
    {
      "cell_type": "code",
      "source": [
        "# Config model\n",
        "model = Sequential()\n",
        "model.add(Conv2D(32, kernel_size=(3, 3), activation='linear', input_shape=(50, 50, 3), padding='same'))\n",
        "model.add(LeakyReLU(alpha=0.1))\n",
        "model.add(MaxPooling2D((2, 2), padding='same'))\n",
        "\n",
        "model.add(Conv2D(64, (3, 3), activation='linear', padding='same'))\n",
        "model.add(LeakyReLU(alpha=0.1))\n",
        "model.add(MaxPooling2D((2, 2), padding='same'))\n",
        "\n",
        "model.add(Conv2D(128, (3, 3), activation='linear', padding='same'))\n",
        "model.add(LeakyReLU(alpha=0.1))\n",
        "model.add(MaxPooling2D((2, 2), padding='same'))\n",
        "\n",
        "model.add(Flatten())\n",
        "model.add(Dense(128, activation='linear'))\n",
        "model.add(LeakyReLU(alpha=0.1))\n",
        "model.add(Dense(13, activation='softmax'))"
      ],
      "metadata": {
        "id": "bsTv2sZ_jVcv"
      },
      "execution_count": null,
      "outputs": []
    },
    {
      "cell_type": "code",
      "source": [
        "# Compile and Train model\n",
        "model.compile(loss = categorical_crossentropy,\n",
        "              optimizer = Adam(),\n",
        "              metrics = ['accuracy'])\n",
        "train = model.fit(x_train, y_train, batch_size = 80, epochs = 10, verbose = 1)"
      ],
      "metadata": {
        "colab": {
          "base_uri": "https://localhost:8080/"
        },
        "id": "KgpsFhfpjaW8",
        "outputId": "ccae917d-84a1-4253-babb-8ab69d205f1c"
      },
      "execution_count": null,
      "outputs": [
        {
          "output_type": "stream",
          "name": "stdout",
          "text": [
            "Epoch 1/10\n",
            "13/13 [==============================] - 1s 28ms/step - loss: 1.8142 - accuracy: 0.4060\n",
            "Epoch 2/10\n",
            "13/13 [==============================] - 0s 10ms/step - loss: 1.5890 - accuracy: 0.4928\n",
            "Epoch 3/10\n",
            "13/13 [==============================] - 0s 9ms/step - loss: 1.4203 - accuracy: 0.5391\n",
            "Epoch 4/10\n",
            "13/13 [==============================] - 0s 9ms/step - loss: 1.2477 - accuracy: 0.6056\n",
            "Epoch 5/10\n",
            "13/13 [==============================] - 0s 15ms/step - loss: 1.1266 - accuracy: 0.6422\n",
            "Epoch 6/10\n",
            "13/13 [==============================] - 0s 10ms/step - loss: 0.9163 - accuracy: 0.7435\n",
            "Epoch 7/10\n",
            "13/13 [==============================] - 0s 10ms/step - loss: 0.8066 - accuracy: 0.7608\n",
            "Epoch 8/10\n",
            "13/13 [==============================] - 0s 9ms/step - loss: 0.6667 - accuracy: 0.8120\n",
            "Epoch 9/10\n",
            "13/13 [==============================] - 0s 10ms/step - loss: 0.5295 - accuracy: 0.8602\n",
            "Epoch 10/10\n",
            "13/13 [==============================] - 0s 16ms/step - loss: 0.3803 - accuracy: 0.9180\n"
          ]
        }
      ]
    },
    {
      "cell_type": "code",
      "source": [
        "# Mở ảnh\n",
        "img = Image.open('Fingerprint (2).jpg')\n",
        "\n",
        "# Resize ảnh về kích thước mong muốn\n",
        "IMG = img\n",
        "img = img.resize((50, 50))\n",
        "\n",
        "# Chuyển đổi ảnh sang numpy array và chuẩn hóa\n",
        "img = np.asarray(img)\n",
        "img = img.reshape(1,50,50,3)\n",
        "img = img.astype('float32') / 255.0\n",
        "\n",
        "plt.imshow(IMG)\n",
        "plt.show()\n",
        "\n",
        "matrix = np.argmax(model.predict(img), axis=-1)\n",
        "class_names = [\"Không biết\", \n",
        "               \"Bạch Dương\", \n",
        "               \"Kim Ngưu\",\n",
        "               \"Song Tử\",\n",
        "               \"Cự Giải\", \n",
        "               \"Sư Tử\", \n",
        "               \"Xử Nữ\", \n",
        "               \"Thiên Bình\", \n",
        "               \"Bọ Cạp\", \n",
        "               \"Nhân Mã\", \n",
        "               \"Ma kết\",\n",
        "               \"Bảo Bình\",\n",
        "               \"Song Ngư\"]\n",
        "class_names_Description = [\"Không biết\", \n",
        "               \"Bạn sẽ có nhiều cơ hội để thăng tiến trong công việc và cuộc sống cá nhân trong tương lai. Tuy nhiên, bạn cũng cần phải tránh quá chủ quan và học cách lắng nghe ý kiến của người khác\", \n",
        "               \"Bạn sẽ có những thay đổi đáng kể trong cuộc sống trong tương lai gần. Bạn sẽ phải đối mặt với những thách thức mới, nhưng nếu bạn giữ vững niềm tin vào bản thân và làm việc chăm chỉ, bạn sẽ đạt được thành công\",\n",
        "               \"Tương lai của bạn sẽ phụ thuộc vào khả năng thích nghi với những thay đổi trong cuộc sống. Bạn cần phải học cách đối phó với áp lực và không để nó ảnh hưởng đến sự tự tin và quyết định của mình\",\n",
        "               \"Bạn sẽ có nhiều thay đổi trong cuộc sống trong tương lai gần. Điều này có thể đem lại sự lo lắng và căng thẳng, nhưng đồng thời cũng là cơ hội để bạn trưởng thành và phát triển\", \n",
        "               \"Bạn sẽ có nhiều cơ hội để thể hiện bản thân trong công việc và cuộc sống cá nhân. Tuy nhiên, bạn cũng cần phải học cách kiểm soát cảm xúc và không để chúng chi phối hành động của mình\", \n",
        "               \"Tương lai của bạn sẽ phụ thuộc vào khả năng tổ chức và kỷ luật của bạn. Nếu bạn có thể tổ chức công việc và cuộc sống cá nhân của mình tốt hơn, bạn sẽ đạt được nhiều thành công\", \n",
        "               \"Bạn sẽ phải đối mặt với nhiều sự lựa chọn và quyết định trong tương lai. Tuy nhiên, nếu bạn học cách đưa ra quyết định đúng đắn và công bằng, bạn sẽ đạt được những kết quả tốt đẹp\", \n",
        "               \"Tương lai của bạn sẽ phụ thuộc vào khả năng đối mặt với những thách thức và thay đổi trong cuộc sống. Nếu bạn có thể tự tin và kiên trì trong quá trình vượt qua chúng, bạn sẽ đạt được nhiều thành công\", \n",
        "               \"Bạn sẽ có nhiều cơ hội để khám phá và trải nghiệm trong cuộc sống. Tuy nhiên, bạn cũng cần phải học cách đối mặt với những trở ngại và không quá tự mãn với những thành công của mình\", \n",
        "               \"Tương lai của bạn sẽ phụ thuộc vào khả năng lập kế hoạch và kỷ luật của bạn. Nếu bạn có thể đặt mục tiêu rõ ràng và hành động chăm chỉ, bạn sẽ đạt được những kết quả tốt đẹp\",\n",
        "               \" Bạn sẽ có nhiều cơ hội để đóng góp ý tưởng mới và sáng tạo trong cuộc sống. Tuy nhiên, bạn cũng cần phải học cách hợp tác với người khác và tránh làm việc đơn độc\",\n",
        "               \"Tương lai của bạn sẽ phụ thuộc vào khả năng đối mặt với những cảm xúc và tình huống khó khăn trong cuộc sống. Nếu bạn có thể học cách kiểm soát và chấp nhận chúng, bạn sẽ đạt được những thành công lớn trong tương lai\"]\n",
        "\n",
        "temp1 = matrix[0]\n",
        "print(\"Cung của bạn: \", class_names[temp1])\n",
        "print(\"Dự đoán cho tương lai của bạn: \", class_names_Description[temp1])"
      ],
      "metadata": {
        "colab": {
          "base_uri": "https://localhost:8080/",
          "height": 506
        },
        "id": "HNuLBYl8jhKv",
        "outputId": "02542d2b-68d0-4246-c41d-e2fbaa8cf711"
      },
      "execution_count": null,
      "outputs": [
        {
          "output_type": "display_data",
          "data": {
            "text/plain": [
              "<Figure size 640x480 with 1 Axes>"
            ],
            "image/png": "[encoded data removed]"
          },
          "metadata": {}
        },
        {
          "output_type": "stream",
          "name": "stdout",
          "text": [
            "1/1 [==============================] - 0s 30ms/step\n",
            "Cung của bạn:  Song Ngư\n",
            "Dự đoán cho tương lai của bạn:  Tương lai của bạn sẽ phụ thuộc vào khả năng đối mặt với những cảm xúc và tình huống khó khăn trong cuộc sống. Nếu bạn có thể học cách kiểm soát và chấp nhận chúng, bạn sẽ đạt được những thành công lớn trong tương lai\n"
          ]
        }
      ]
    },
    {
      "cell_type": "code",
      "source": [],
      "metadata": {
        "id": "OAOF_3m4ltYe"
      },
      "execution_count": null,
      "outputs": []
    }
  ]
}