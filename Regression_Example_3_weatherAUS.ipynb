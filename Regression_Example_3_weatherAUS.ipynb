import matplotlib.pyplot as plt
import seaborn as sns
import pandas as pd
import numpy as np
from sklearn import linear_model
url = "weatherAUS.csv"
data = pd.read_csv(url)
data.head()

correlation = data.corr()
print(correlation)
sns.heatmap(correlation, annot = True)

data.plot(kind='scatter',x='Sunshine',y='Rainfall',figsize=(9,9),color='red')

#------------------------Using LinearRegression----------------------
from sklearn import linear_model
model = linear_model.LinearRegression()
model.fit(X=pd.DataFrame(data['Sunshine']), y=data['Rainfall'])

print('Giá trị intercept:', model.intercept_)
print('Giá trị coeffient:', model.coef_)
print('Độ chính xác:', model.score(pd.DataFrame(data['Sunshine']),y=data['Rainfall']))

data.plot(kind = 'scatter',x='Sunshine',y='Rainfall',figsize=(9,9),color = 'black',xlim = (0,180))
y_pred = model.predict(X=pd.DataFrame(data['Sunshine']))
plt.plot(data['Sunshine'],y_pred,color = 'orange')
