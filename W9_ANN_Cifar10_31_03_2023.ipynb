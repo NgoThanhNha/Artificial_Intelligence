{
  "nbformat": 4,
  "nbformat_minor": 0,
  "metadata": {
    "colab": {
      "provenance": [],
      "authorship_tag": "ABX9TyPje3al6ySSVfQX2URLmO4Y",
      "include_colab_link": true
    },
    "kernelspec": {
      "name": "python3",
      "display_name": "Python 3"
    },
    "language_info": {
      "name": "python"
    }
  },
  "cells": [
    {
      "cell_type": "markdown",
      "metadata": {
        "id": "view-in-github",
        "colab_type": "text"
      },
      "source": [
        "<a href=\"https://colab.research.google.com/github/NgoThanhNha/Artificial_Intelligence/blob/main/W9_ANN_Cifar10_31_03_2023.ipynb\" target=\"_parent\"><img src=\"https://colab.research.google.com/assets/colab-badge.svg\" alt=\"Open In Colab\"/></a>"
      ]
    },
    {
      "cell_type": "code",
      "execution_count": 2,
      "metadata": {
        "id": "TOYNQrK99YbD",
        "colab": {
          "base_uri": "https://localhost:8080/"
        },
        "outputId": "00f5d06c-f128-46d0-f293-dc06eb66c685"
      },
      "outputs": [
        {
          "output_type": "stream",
          "name": "stdout",
          "text": [
            "Downloading data from https://www.cs.toronto.edu/~kriz/cifar-10-python.tar.gz\n",
            "170498071/170498071 [==============================] - 3s 0us/step\n"
          ]
        }
      ],
      "source": [
        "import matplotlib.pyplot as plt\n",
        "import numpy as np\n",
        "from keras.datasets import cifar10\n",
        "from keras.layers import Dense\n",
        "from keras.models import Sequential\n",
        "from keras.utils import to_categorical\n",
        "\n",
        "(x_train, y_train), (x_test, y_test) = cifar10.load_data()\n"
      ]
    },
    {
      "cell_type": "code",
      "source": [
        "# Chuyển đổi các nhãn ở đầu ra thành định dạng one-hot encoding\n",
        "y_train = to_categorical(y_train, num_classes=10)\n",
        "y_test = to_categorical(y_test, num_classes=10)"
      ],
      "metadata": {
        "id": "xUCSjAvGHQ6X"
      },
      "execution_count": 3,
      "outputs": []
    },
    {
      "cell_type": "code",
      "source": [
        "# Chuẩn hóa dữ liệu\n",
        "x_train = x_train.reshape(50000,32*32*3)\n",
        "x_train = x_train.astype('float32')/255\n",
        "\n",
        "x_test = x_test.reshape(10000,32*32*3)\n",
        "x_test = x_test.astype('float32')/255"
      ],
      "metadata": {
        "id": "dm87cvPWIJzT"
      },
      "execution_count": 4,
      "outputs": []
    },
    {
      "cell_type": "code",
      "source": [
        "#-----------------------------Tạo 2 lớp trong mô hình ANN---------------------------------\n",
        "model = Sequential()\n",
        "model.add(Dense(512,activation = 'relu',input_shape = (3072,))) # Lớp đầu tiên"
      ],
      "metadata": {
        "id": "VvBJ5EXe_Usj"
      },
      "execution_count": 5,
      "outputs": []
    },
    {
      "cell_type": "code",
      "source": [
        "# Lớp thứ 2\n",
        "model.add(Dense(10,activation = 'Softmax')) # Lớp thứ 2, Liên kết với lớp trước đó, sẽ có 10 output ở ngõ ra"
      ],
      "metadata": {
        "id": "sWX7PshqE9Df"
      },
      "execution_count": 6,
      "outputs": []
    },
    {
      "cell_type": "code",
      "source": [
        "# Biên dịch chương trình\n",
        "model.compile(optimizer='Adam',loss='categorical_crossentropy',metrics=['accuracy']) # Có thể sử dụng optimizer rmsprop hoặc Adam đều được. Nhưng đối với dữ liệu nhiều chiều thì Adam sẽ cho kết quả tốt hơn\n"
      ],
      "metadata": {
        "id": "pxLwof2-JoGy"
      },
      "execution_count": 7,
      "outputs": []
    },
    {
      "cell_type": "code",
      "source": [
        "# Bắt đầu huấn luyện\n",
        "model.fit(x_train, y_train, epochs = 10, batch_size = 128)\n",
        "\n",
        "# Đánh giá mô hình\n",
        "test_loss, test_acc = model.evaluate(x_test,y_test)\n",
        "print('Mất mát:',test_loss)\n",
        "print('Độ chính xác',test_acc)"
      ],
      "metadata": {
        "colab": {
          "base_uri": "https://localhost:8080/"
        },
        "id": "_l29DyJwKZjC",
        "outputId": "364fecdb-2a66-440c-a84c-bd2ed44049a2"
      },
      "execution_count": 8,
      "outputs": [
        {
          "output_type": "stream",
          "name": "stdout",
          "text": [
            "Epoch 1/10\n",
            "391/391 [==============================] - 15s 35ms/step - loss: 1.9466 - accuracy: 0.3184\n",
            "Epoch 2/10\n",
            "391/391 [==============================] - 14s 36ms/step - loss: 1.7187 - accuracy: 0.3884\n",
            "Epoch 3/10\n",
            "391/391 [==============================] - 13s 34ms/step - loss: 1.6387 - accuracy: 0.4194\n",
            "Epoch 4/10\n",
            "391/391 [==============================] - 14s 35ms/step - loss: 1.5941 - accuracy: 0.4352\n",
            "Epoch 5/10\n",
            "391/391 [==============================] - 14s 37ms/step - loss: 1.5513 - accuracy: 0.4512\n",
            "Epoch 6/10\n",
            "391/391 [==============================] - 14s 36ms/step - loss: 1.5297 - accuracy: 0.4601\n",
            "Epoch 7/10\n",
            "391/391 [==============================] - 16s 41ms/step - loss: 1.5102 - accuracy: 0.4637\n",
            "Epoch 8/10\n",
            "391/391 [==============================] - 17s 42ms/step - loss: 1.4775 - accuracy: 0.4763\n",
            "Epoch 9/10\n",
            "391/391 [==============================] - 13s 34ms/step - loss: 1.4654 - accuracy: 0.4805\n",
            "Epoch 10/10\n",
            "391/391 [==============================] - 13s 34ms/step - loss: 1.4448 - accuracy: 0.4905\n",
            "313/313 [==============================] - 4s 11ms/step - loss: 1.5412 - accuracy: 0.4651\n",
            "Mất mát: 1.5411655902862549\n",
            "Độ chính xác 0.4650999903678894\n"
          ]
        }
      ]
    },
    {
      "cell_type": "code",
      "source": [
        "# Test mô hình\n",
        "X = x_test\n",
        "y = y_test\n",
        "\n",
        "i = 55 #Test hình thứ i\n",
        "img = X[i].reshape(1, 32*32*3)\n",
        "matrix = np.argmax(model.predict(img), axis=-1)\n",
        "plt.imshow(X[i].reshape(32,32,3))\n",
        "plt.show()\n",
        "class_names = [\"Máy bay\", \"Ô tô\", \"Chim\", \"Mèo\", \"Nai\", \"Chó\", \"Ếch\", \"Ngựa\", \"Tàu thủy\", \"Xe tải\"]\n",
        "temp1 = matrix[0]\n",
        "print(\"Label: \", class_names[temp1])\n"
      ],
      "metadata": {
        "colab": {
          "base_uri": "https://localhost:8080/",
          "height": 482
        },
        "id": "B0TqR5kJMG5k",
        "outputId": "8e3db4fc-10b5-4d2c-dbca-d0b984b41058"
      },
      "execution_count": 42,
      "outputs": [
        {
          "output_type": "stream",
          "name": "stdout",
          "text": [
            "1/1 [==============================] - 0s 50ms/step\n"
          ]
        },
        {
          "output_type": "display_data",
          "data": {
            "text/plain": [
              "<Figure size 640x480 with 1 Axes>"
            ],
            "image/png": "[encoded data removed]"
          },
          "metadata": {}
        },
        {
          "output_type": "stream",
          "name": "stdout",
          "text": [
            "Label:  Tàu thủy\n",
            "(1, 3072)\n"
          ]
        }
      ]
    },
    {
      "cell_type": "code",
      "source": [
        "from PIL import Image\n",
        "\n",
        "# Mở ảnh\n",
        "img = Image.open('xetai.jpg')\n",
        "\n",
        "# Resize ảnh về kích thước mong muốn\n",
        "img = img.resize((32, 32))\n",
        "\n",
        "# Chuyển đổi ảnh sang numpy array và chuẩn hóa\n",
        "img = np.asarray(img)\n",
        "img = img.reshape(1,32*32*3)\n",
        "img = img.astype('float32') / 255.0\n",
        "\n",
        "plt.imshow(img.reshape(32,32,3))\n",
        "plt.show()\n",
        "\n",
        "matrix = np.argmax(model.predict(img), axis=-1)\n",
        "\n",
        "class_names = [\"Máy bay\", \"Ô tô\", \"Chim\", \"Mèo\", \"Nai\", \"Chó\", \"Ếch\", \"Ngựa\", \"Tàu thủy\", \"Xe tải\"]\n",
        "temp1 = matrix[0]\n",
        "print(temp1)\n",
        "print(\"Label: \", class_names[temp1])"
      ],
      "metadata": {
        "colab": {
          "base_uri": "https://localhost:8080/",
          "height": 482
        },
        "id": "kI7zA5NuApda",
        "outputId": "8e85b01f-d58b-4ce2-e5a9-e53fe4536d59"
      },
      "execution_count": 55,
      "outputs": [
        {
          "output_type": "display_data",
          "data": {
            "text/plain": [
              "<Figure size 640x480 with 1 Axes>"
            ],
            "image/png": "[encoded data removed]"
          },
          "metadata": {}
        },
        {
          "output_type": "stream",
          "name": "stdout",
          "text": [
            "1/1 [==============================] - 0s 40ms/step\n",
            "9\n",
            "Label:  Xe tải\n"
          ]
        }
      ]
    },
    {
      "cell_type": "code",
      "source": [],
      "metadata": {
        "id": "IPAxdU2pBhG6"
      },
      "execution_count": null,
      "outputs": []
    }
  ]
}