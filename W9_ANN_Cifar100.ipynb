{
  "nbformat": 4,
  "nbformat_minor": 0,
  "metadata": {
    "colab": {
      "provenance": [],
      "authorship_tag": "ABX9TyMAlrLtKplBeEZAlazyJkrF",
      "include_colab_link": true
    },
    "kernelspec": {
      "name": "python3",
      "display_name": "Python 3"
    },
    "language_info": {
      "name": "python"
    }
  },
  "cells": [
    {
      "cell_type": "markdown",
      "metadata": {
        "id": "view-in-github",
        "colab_type": "text"
      },
      "source": [
        "<a href=\"https://colab.research.google.com/github/NgoThanhNha/Artificial_Intelligence/blob/main/W9_ANN_Cifar100.ipynb\" target=\"_parent\"><img src=\"https://colab.research.google.com/assets/colab-badge.svg\" alt=\"Open In Colab\"/></a>"
      ]
    },
    {
      "cell_type": "code",
      "execution_count": 1,
      "metadata": {
        "id": "goHzZU7iNtva"
      },
      "outputs": [],
      "source": [
        "import matplotlib.pyplot as plt\n",
        "import numpy as np\n",
        "from keras.datasets import cifar100\n",
        "from keras.layers import Dense\n",
        "from keras.models import Sequential\n",
        "from keras.utils import to_categorical"
      ]
    },
    {
      "cell_type": "code",
      "source": [
        "(train_images, train_labels), (test_images, test_labels) = cifar100.load_data()"
      ],
      "metadata": {
        "colab": {
          "base_uri": "https://localhost:8080/"
        },
        "id": "Pz0WX8jjOAvW",
        "outputId": "51a99790-356e-4b54-a367-f56ff29bbd58"
      },
      "execution_count": 2,
      "outputs": [
        {
          "output_type": "stream",
          "name": "stdout",
          "text": [
            "Downloading data from https://www.cs.toronto.edu/~kriz/cifar-100-python.tar.gz\n",
            "169001437/169001437 [==============================] - 2s 0us/step\n"
          ]
        }
      ]
    },
    {
      "cell_type": "code",
      "source": [
        "# Chuyển đổi các nhãn ở đầu ra thành định dạng one-hot encoding\n",
        "train_labels = to_categorical(train_labels, num_classes=100)\n",
        "test_labels = to_categorical(test_labels, num_classes=100)"
      ],
      "metadata": {
        "id": "Sd86wu5GOIKU"
      },
      "execution_count": 4,
      "outputs": []
    },
    {
      "cell_type": "code",
      "source": [
        "# Chuẩn hóa dữ liệu\n",
        "train_images = train_images.reshape(50000,32*32*3)\n",
        "train_images = train_images.astype('float32')/255\n",
        "\n",
        "test_images = test_images.reshape(10000,32*32*3)\n",
        "test_images = test_images.astype('float32')/255"
      ],
      "metadata": {
        "id": "jLcJdA0gOVOk"
      },
      "execution_count": 5,
      "outputs": []
    },
    {
      "cell_type": "code",
      "source": [
        "#-----------------------------Tạo 2 lớp trong mô hình ANN---------------------------------\n",
        "model = Sequential()\n",
        "model.add(Dense(512,activation = 'relu',input_shape = (3072,))) # Lớp đầu tiên"
      ],
      "metadata": {
        "id": "vw6FKuWDO-iu"
      },
      "execution_count": 6,
      "outputs": []
    },
    {
      "cell_type": "code",
      "source": [
        "# Lớp thứ 2\n",
        "model.add(Dense(100,activation = 'Softmax')) # Lớp thứ 2, Liên kết với lớp trước đó, sẽ có 100 output ở ngõ ra"
      ],
      "metadata": {
        "id": "Uvbj3kVWPEKM"
      },
      "execution_count": 7,
      "outputs": []
    },
    {
      "cell_type": "code",
      "source": [
        "# Biên dịch chương trình\n",
        "model.compile(optimizer='Adam',loss='categorical_crossentropy',metrics=['accuracy']) # Có thể sử dụng optimizer rmsprop hoặc Adam đều được. Nhưng đối với dữ liệu nhiều chiều thì Adam sẽ cho kết quả tốt hơn"
      ],
      "metadata": {
        "id": "7pZnrNc7PJ-s"
      },
      "execution_count": 8,
      "outputs": []
    },
    {
      "cell_type": "code",
      "source": [
        "# Bắt đầu huấn luyện\n",
        "model.fit(train_images, train_labels, epochs = 10, batch_size = 128)\n",
        "\n",
        "# Đánh giá mô hình\n",
        "test_loss, test_acc = model.evaluate(test_images,test_labels)\n",
        "print('Mất mát:',test_loss)\n",
        "print('Độ chính xác',test_acc)"
      ],
      "metadata": {
        "colab": {
          "base_uri": "https://localhost:8080/"
        },
        "id": "zNeZuVgcPMh0",
        "outputId": "aacc8e1e-3263-4f92-b8ff-eb59d4f53eff"
      },
      "execution_count": 30,
      "outputs": [
        {
          "output_type": "stream",
          "name": "stdout",
          "text": [
            "Epoch 1/10\n",
            "391/391 [==============================] - 8s 20ms/step - loss: 3.0564 - accuracy: 0.2576\n",
            "Epoch 2/10\n",
            "391/391 [==============================] - 9s 22ms/step - loss: 3.0453 - accuracy: 0.2601\n",
            "Epoch 3/10\n",
            "391/391 [==============================] - 9s 23ms/step - loss: 3.0329 - accuracy: 0.2616\n",
            "Epoch 4/10\n",
            "391/391 [==============================] - 8s 21ms/step - loss: 3.0188 - accuracy: 0.2648\n",
            "Epoch 5/10\n",
            "391/391 [==============================] - 8s 22ms/step - loss: 3.0050 - accuracy: 0.2693\n",
            "Epoch 6/10\n",
            "391/391 [==============================] - 9s 22ms/step - loss: 2.9986 - accuracy: 0.2707\n",
            "Epoch 7/10\n",
            "391/391 [==============================] - 8s 22ms/step - loss: 2.9781 - accuracy: 0.2735\n",
            "Epoch 8/10\n",
            "391/391 [==============================] - 9s 24ms/step - loss: 2.9721 - accuracy: 0.2726\n",
            "Epoch 9/10\n",
            "391/391 [==============================] - 9s 22ms/step - loss: 2.9622 - accuracy: 0.2769\n",
            "Epoch 10/10\n",
            "391/391 [==============================] - 9s 22ms/step - loss: 2.9473 - accuracy: 0.2799\n",
            "313/313 [==============================] - 1s 4ms/step - loss: 3.3896 - accuracy: 0.2193\n",
            "Mất mát: 3.3896121978759766\n",
            "Độ chính xác 0.21930000185966492\n"
          ]
        }
      ]
    },
    {
      "cell_type": "code",
      "source": [
        "# Test mô hình\n",
        "X = test_images\n",
        "y = test_labels\n",
        "\n",
        "i = 6 #Test hình thứ i\n",
        "img = X[i].reshape(1, 32*32*3)\n",
        "matrix = np.argmax(model.predict(img), axis=-1)\n",
        "plt.imshow(X[i].reshape(32,32,3))\n",
        "plt.show()\n",
        "class_names = ['apple', 'aquarium_fish', 'baby', 'bear', 'beaver', 'bed', 'bee', 'beetle', 'bicycle', 'bottle', 'bowl', 'boy', 'bridge', 'bus', 'butterfly', 'camel', 'can', 'castle', 'caterpillar', 'cattle', 'chair', 'chimpanzee', 'clock', 'cloud', 'cockroach', 'couch', 'crab', 'crocodile', 'cup', 'dinosaur', 'dolphin', 'elephant', 'flatfish', 'forest', 'fox', 'girl', 'hamster', 'house', 'kangaroo', 'keyboard', 'lamp', 'lawn_mower', 'leopard', 'lion', 'lizard', 'lobster', 'man', 'maple_tree', 'motorcycle', 'mountain', 'mouse', 'mushroom', 'oak_tree', 'orange', 'orchid', 'otter', 'palm_tree', 'pear', 'pickup_truck', 'pine_tree', 'plain', 'plate', 'poppy', 'porcupine', 'possum', 'rabbit', 'raccoon', 'ray', 'road', 'rocket', 'rose', 'sea', 'seal', 'shark', 'shrew', 'skunk', 'skyscraper', 'snail', 'snake', 'spider', 'squirrel', 'streetcar', 'sunflower', 'sweet_pepper', 'table', 'tank', 'telephone', 'television', 'tiger', 'tractor', 'train', 'trout', 'tulip', 'turtle', 'wardrobe', 'whale', 'willow_tree', 'wolf', 'woman', 'worm']\n",
        "temp1 = matrix[0]\n",
        "print(\"Label: \", class_names[temp1])"
      ],
      "metadata": {
        "colab": {
          "base_uri": "https://localhost:8080/",
          "height": 465
        },
        "id": "zzWZ9Y3cS1lj",
        "outputId": "b97c9fe9-c357-4e4a-8e84-7171e451e9c5"
      },
      "execution_count": 38,
      "outputs": [
        {
          "output_type": "stream",
          "name": "stdout",
          "text": [
            "1/1 [==============================] - 0s 18ms/step\n"
          ]
        },
        {
          "output_type": "display_data",
          "data": {
            "text/plain": [
              "<Figure size 640x480 with 1 Axes>"
            ],
            "image/png": "[encoded data removed]"
          },
          "metadata": {}
        },
        {
          "output_type": "stream",
          "name": "stdout",
          "text": [
            "Label:  wolf\n"
          ]
        }
      ]
    },
    {
      "cell_type": "markdown",
      "source": [],
      "metadata": {
        "id": "w2Xw5ZDZSf7q"
      }
    },
    {
      "cell_type": "code",
      "source": [
        "from PIL import Image\n",
        "\n",
        "# Mở ảnh\n",
        "img = Image.open('Tauthuy.jpg')\n",
        "\n",
        "# Resize ảnh về kích thước mong muốn\n",
        "img = img.resize((32, 32))\n",
        "\n",
        "# Chuyển đổi ảnh sang numpy array và chuẩn hóa\n",
        "img = np.asarray(img)\n",
        "img = img.reshape(1,32*32*3)\n",
        "img = img.astype('float32') / 255.0\n",
        "\n",
        "plt.imshow(img.reshape(32,32,3))\n",
        "plt.show()\n",
        "\n",
        "matrix = np.argmax(model.predict(img), axis=-1)\n",
        "\n",
        "class_names = ['apple', 'aquarium_fish', 'baby', 'bear', 'beaver', 'bed', 'bee', 'beetle', 'bicycle', 'bottle', 'bowl', 'boy', 'bridge', 'bus', 'butterfly', 'camel', 'can', 'castle', 'caterpillar', 'cattle', 'chair', 'chimpanzee', 'clock', 'cloud', 'cockroach', 'couch', 'crab', 'crocodile', 'cup', 'dinosaur', 'dolphin', 'elephant', 'flatfish', 'forest', 'fox', 'girl', 'hamster', 'house', 'kangaroo', 'keyboard', 'lamp', 'lawn_mower', 'leopard', 'lion', 'lizard', 'lobster', 'man', 'maple_tree', 'motorcycle', 'mountain', 'mouse', 'mushroom', 'oak_tree', 'orange', 'orchid', 'otter', 'palm_tree', 'pear', 'pickup_truck', 'pine_tree', 'plain', 'plate', 'poppy', 'porcupine', 'possum', 'rabbit', 'raccoon', 'ray', 'road', 'rocket', 'rose', 'sea', 'seal', 'shark', 'shrew', 'skunk', 'skyscraper', 'snail', 'snake', 'spider', 'squirrel', 'streetcar', 'sunflower', 'sweet_pepper', 'table', 'tank', 'telephone', 'television', 'tiger', 'tractor', 'train', 'trout', 'tulip', 'turtle', 'wardrobe', 'whale', 'willow_tree', 'wolf', 'woman', 'worm']\n",
        "temp1 = matrix[0]\n",
        "print(\"Label: \", class_names[temp1])\n"
      ],
      "metadata": {
        "colab": {
          "base_uri": "https://localhost:8080/",
          "height": 465
        },
        "id": "-8-TKdnuUxg6",
        "outputId": "553710a6-2e38-4271-9c04-83a9fa8e8dd8"
      },
      "execution_count": 42,
      "outputs": [
        {
          "output_type": "display_data",
          "data": {
            "text/plain": [
              "<Figure size 640x480 with 1 Axes>"
            ],
            "image/png": "[encoded data removed]"
          },
          "metadata": {}
        },
        {
          "output_type": "stream",
          "name": "stdout",
          "text": [
            "1/1 [==============================] - 0s 27ms/step\n",
            "Label:  dolphin\n"
          ]
        }
      ]
    },
    {
      "cell_type": "code",
      "source": [],
      "metadata": {
        "id": "--HljxjLWvM5"
      },
      "execution_count": null,
      "outputs": []
    }
  ]
}